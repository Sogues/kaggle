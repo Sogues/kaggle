{
 "cells": [
  {
   "cell_type": "code",
   "execution_count": 1,
   "metadata": {},
   "outputs": [],
   "source": [
    "import tensorflow as tf\n",
    "import numpy as np\n",
    "import pandas as pd\n",
    "from pandas import DataFrame\n",
    "import matplotlib.pyplot as plt\n",
    "import time\n",
    "import os\n",
    "import sys\n",
    "import math\n",
    "\n",
    "plt.rcParams['figure.figsize'] = (10.0, 8.0) # set default size of plots\n",
    "plt.rcParams['image.interpolation'] = 'nearest'\n",
    "plt.rcParams['image.cmap'] = 'gray'\n",
    "\n",
    "%load_ext autoreload\n",
    "%autoreload 2\n",
    "%matplotlib inline"
   ]
  },
  {
   "cell_type": "code",
   "execution_count": 26,
   "metadata": {},
   "outputs": [],
   "source": [
    "ROOT_DIR = '/data/datasets/digit-recognizer/'\n",
    "TRAIN_FILE_NAME = 'train.csv'\n",
    "TEST_FILE_NAME = 'test.csv'\n",
    "np.random.seed(42)\n",
    "OUTPUT = []\n",
    "\n",
    "def out_put():\n",
    "    with open('output.csv', 'w') as f:\n",
    "        f.write('ImageId,Label\\n')\n",
    "        for idx, val in enumerate(OUTPUT):\n",
    "            f.write(\"{},{}\\n\".format(idx+1, val))\n",
    "        print('over')        "
   ]
  },
  {
   "cell_type": "code",
   "execution_count": 3,
   "metadata": {},
   "outputs": [],
   "source": [
    "data = pd.read_csv(os.path.join(ROOT_DIR, TRAIN_FILE_NAME))\n",
    "test = pd.read_csv(os.path.join(ROOT_DIR, TEST_FILE_NAME)).values"
   ]
  },
  {
   "cell_type": "code",
   "execution_count": 4,
   "metadata": {},
   "outputs": [],
   "source": [
    "DATA_SIZE, _ = data.shape\n",
    "MASK = np.random.permutation(DATA_SIZE)\n",
    "VAL_SIZE = 1000"
   ]
  },
  {
   "cell_type": "markdown",
   "metadata": {},
   "source": [
    "## some info"
   ]
  },
  {
   "cell_type": "markdown",
   "metadata": {},
   "source": [
    "### data.dtypes all int64\n",
    "### data.columns\n",
    "\n",
    "Index(['label', 'pixel0', 'pixel1', 'pixel2', 'pixel3', 'pixel4', 'pixel5',\n",
    "       'pixel6', 'pixel7', 'pixel8',\n",
    "       ...\n",
    "       'pixel774', 'pixel775', 'pixel776', 'pixel777', 'pixel778', 'pixel779',\n",
    "       'pixel780', 'pixel781', 'pixel782', 'pixel783'],\n",
    "      dtype='object', length=785)\n",
    "### data.values:\n",
    "\n",
    "### type numpy.ndarray, dtype('int64'), shape=(42000, 785)"
   ]
  },
  {
   "cell_type": "code",
   "execution_count": 5,
   "metadata": {},
   "outputs": [
    {
     "name": "stdout",
     "output_type": "stream",
     "text": [
      "(41000, 785) (1000, 785)\n"
     ]
    }
   ],
   "source": [
    "TRAIN_DATA = data.loc[MASK[VAL_SIZE:]]\n",
    "VAL_DATA = data.loc[MASK[:VAL_SIZE]]\n",
    "print(TRAIN_DATA.shape, VAL_DATA.shape)"
   ]
  },
  {
   "cell_type": "code",
   "execution_count": 6,
   "metadata": {},
   "outputs": [],
   "source": [
    "def data_label_split(data, column_name):\n",
    "    labels = data.pop(column_name)\n",
    "    return data, labels"
   ]
  },
  {
   "cell_type": "code",
   "execution_count": 7,
   "metadata": {},
   "outputs": [
    {
     "name": "stdout",
     "output_type": "stream",
     "text": [
      "X_train.shape: (41000, 784) y_train.shape: (41000,)\n",
      "X_val.shape: (1000, 784) y_val.shape: (1000,)\n"
     ]
    }
   ],
   "source": [
    "X_train, y_train = data_label_split(TRAIN_DATA, 'label')\n",
    "X_val, y_val = data_label_split(VAL_DATA, 'label')\n",
    "print('X_train.shape:',X_train.shape, 'y_train.shape:', y_train.shape)\n",
    "print('X_val.shape:', X_val.shape, 'y_val.shape:', y_val.shape)"
   ]
  },
  {
   "cell_type": "code",
   "execution_count": 8,
   "metadata": {},
   "outputs": [],
   "source": [
    "X_train, y_train = X_train.values, y_train.values"
   ]
  },
  {
   "cell_type": "code",
   "execution_count": 9,
   "metadata": {},
   "outputs": [],
   "source": [
    "# scale the data\n",
    "# add the epsilon to avoid devide zero\n",
    "scale_x_train = (X_train - np.mean(X_train, axis=0)) / np.sqrt(np.std(X_train, axis=0)+ 1e-5)\n",
    "scale_x_val = (X_val - np.mean(X_train, axis=0)) / np.sqrt(np.std(X_train, axis=0) + 1e-5)"
   ]
  },
  {
   "cell_type": "markdown",
   "metadata": {},
   "source": [
    "## First implement a 2 layer NN\n",
    "\n",
    "##### in training, we had got over 90% accuracy,\n",
    "##### but in kaggle, this test accuracy was 0.83928 \n",
    "##### obiviously the model was overfitting\n",
    "##### so after trying this, we'll try some complex model with some regularization methods"
   ]
  },
  {
   "cell_type": "code",
   "execution_count": 20,
   "metadata": {},
   "outputs": [
    {
     "name": "stdout",
     "output_type": "stream",
     "text": [
      "training\n",
      "Iteration 0: with minibatch training loss = 11.6 and accuracy of 0.12\n",
      "Iteration 100: with minibatch training loss = 0.651 and accuracy of 0.91\n",
      "Iteration 200: with minibatch training loss = 1.19 and accuracy of 0.92\n",
      "Iteration 300: with minibatch training loss = 2.36 and accuracy of 0.92\n",
      "Iteration 400: with minibatch training loss = 1.54 and accuracy of 0.92\n",
      "Iteration 500: with minibatch training loss = 0.594 and accuracy of 0.92\n",
      "Iteration 600: with minibatch training loss = 1.09 and accuracy of 0.97\n",
      "Epoch 1, Overall loss = 0.984 and accuracy of 0.916\n"
     ]
    },
    {
     "data": {
      "image/png": "[encoded data removed]",
      "text/plain": [
       "<matplotlib.figure.Figure at 0x7f16f97a6e80>"
      ]
     },
     "metadata": {},
     "output_type": "display_data"
    },
    {
     "name": "stdout",
     "output_type": "stream",
     "text": [
      "validation\n",
      "Overall loss = 0.0139 and accuracy of 0.943\n",
      "testing\n"
     ]
    }
   ],
   "source": [
    "tf.reset_default_graph()\n",
    "\n",
    "X = tf.placeholder(tf.float32, shape=[None, 28*28], name='X')\n",
    "y = tf.placeholder(tf.int64, shape=None, name='y')\n",
    "is_training = tf.placeholder(tf.bool)\n",
    "\n",
    "#### start build layer now\n",
    "fc_1 = tf.layers.dense(X, 1024, \n",
    "                      activation=tf.nn.relu,\n",
    "                      kernel_initializer=tf.contrib.layers.xavier_initializer(),\n",
    "                      name='FC1')\n",
    "y_out = tf.layers.dense(fc_1, 10, \n",
    "                       activation=None,\n",
    "                       name='Y_OUT')\n",
    "\n",
    "total_losses = tf.losses.softmax_cross_entropy(tf.one_hot(y, 10), logits=y_out)\n",
    "#total_losses = tf.nn.softmax_cross_entropy_with_logits(logits=y_out, labels=y)\n",
    "\n",
    "mean_loss = tf.reduce_mean(total_losses)\n",
    "\n",
    "optimizer = tf.train.AdamOptimizer()\n",
    "train_step = optimizer.minimize(mean_loss)\n",
    "\n",
    "correct_predictions = tf.equal(tf.argmax(y_out, axis=1), y)\n",
    "accuracy = tf.reduce_mean(tf.cast(correct_predictions, tf.float32))\n",
    "\n",
    "variables = [mean_loss, accuracy, correct_predictions, train_step]\n",
    "\n",
    "batch_size = 64\n",
    "epochs = 1\n",
    "iter_cnt = 0\n",
    "N = scale_x_train.shape[0]\n",
    "with tf.Session() as sess:\n",
    "    print('training')\n",
    "    init = tf.global_variables_initializer()\n",
    "    sess.run(init)\n",
    "\n",
    "    for e in range(epochs):\n",
    "        indices = np.arange(N)\n",
    "        np.random.shuffle(indices)\n",
    "        correct = 0\n",
    "        losses = []\n",
    "        for i in range(int(math.ceil(N / batch_size))):\n",
    "            mask = indices[i*batch_size : (i+1)*batch_size]\n",
    "            feed_dict = {\n",
    "                X: scale_x_train[mask],\n",
    "                y: y_train[mask],\n",
    "            }\n",
    "            actual_batch_size = len(mask)\n",
    "            loss, acc, corr, _ = sess.run(variables, feed_dict=feed_dict)\n",
    "            losses.append(loss*actual_batch_size)\n",
    "            correct += np.sum(corr)\n",
    "            if (iter_cnt % 100) == 0:\n",
    "                print(\"Iteration {0}: with minibatch training loss = {1:.3g} and accuracy of {2:.2g}\"\\\n",
    "                      .format(iter_cnt,loss,np.sum(corr)/actual_batch_size))\n",
    "            iter_cnt += 1\n",
    "        total_correct = correct/N\n",
    "        total_loss = np.sum(losses)/N\n",
    "        print(\"Epoch {2}, Overall loss = {0:.3g} and accuracy of {1:.3g}\"\\\n",
    "              .format(total_loss,total_correct,e+1))\n",
    "        if True:\n",
    "            plt.plot(losses)\n",
    "            plt.grid(True)\n",
    "            plt.title('Epoch {} Loss'.format(e+1))\n",
    "            plt.xlabel('minibatch number')\n",
    "            plt.ylabel('minibatch loss')\n",
    "            plt.show()\n",
    "    print('validation')\n",
    "    val_variables = [total_losses, correct_predictions]\n",
    "    total_loss = 0\n",
    "    total_correct = 0\n",
    "    for i in range(int(math.ceil(scale_x_val.shape[0]/batch_size))):\n",
    "        feed_dict = {\n",
    "            X:scale_x_val[i*batch_size:(i+1)*batch_size],\n",
    "            y:y_val[i*batch_size:(i+1)*batch_size]\n",
    "        }\n",
    "        actual_batch_size = y_val[i*batch_size:(i+1)*batch_size].shape[0]\n",
    "        loss, acc = sess.run(val_variables, feed_dict=feed_dict)\n",
    "        total_loss += loss\n",
    "        total_correct += np.sum(acc)\n",
    "    total_loss /= scale_x_val.shape[0]\n",
    "    total_correct /= scale_x_val.shape[0]\n",
    "    print(\"Overall loss = {0:.3g} and accuracy of {1:.3g}\"\\\n",
    "              .format(total_loss,total_correct))\n",
    "    print('testing')\n",
    "    val_variables = [y_out]\n",
    "    for i in range(int(math.ceil(test.shape[0]/batch_size))):\n",
    "        feed_dict = {\n",
    "            X:test[i*batch_size:(i+1)*batch_size],\n",
    "        }\n",
    "        ## return a list\n",
    "        out = sess.run(val_variables, feed_dict=feed_dict)\n",
    "        OUTPUT.extend(list(np.argmax(out[0], axis=1)))"
   ]
  },
  {
   "cell_type": "markdown",
   "metadata": {},
   "source": [
    "although we got the loss and accuracy in train data, <br>\n",
    "but without a class or model , we had to train again on test data <br>\n",
    "which cost a mount of computation"
   ]
  }
 ],
 "metadata": {
  "kernelspec": {
   "display_name": "Python 3",
   "language": "python",
   "name": "python3"
  },
  "language_info": {
   "codemirror_mode": {
    "name": "ipython",
    "version": 3
   },
   "file_extension": ".py",
   "mimetype": "text/x-python",
   "name": "python",
   "nbconvert_exporter": "python",
   "pygments_lexer": "ipython3",
   "version": "3.5.2"
  }
 },
 "nbformat": 4,
 "nbformat_minor": 2
}
