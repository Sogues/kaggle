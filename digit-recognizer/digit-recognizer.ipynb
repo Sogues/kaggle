{
 "cells": [
  {
   "cell_type": "code",
   "execution_count": 1,
   "metadata": {
    "collapsed": true
   },
   "outputs": [],
   "source": [
    "import tensorflow as tf\n",
    "import numpy as np\n",
    "import pandas as pd\n",
    "from pandas import DataFrame\n",
    "import matplotlib.pyplot as plt\n",
    "import time\n",
    "import os\n",
    "import sys\n",
    "import math\n",
    "\n",
    "plt.rcParams['figure.figsize'] = (10.0, 8.0) # set default size of plots\n",
    "plt.rcParams['image.interpolation'] = 'nearest'\n",
    "plt.rcParams['image.cmap'] = 'gray'\n",
    "\n",
    "%load_ext autoreload\n",
    "%autoreload 2\n",
    "%matplotlib inline"
   ]
  },
  {
   "cell_type": "code",
   "execution_count": 2,
   "metadata": {
    "collapsed": true
   },
   "outputs": [],
   "source": [
    "ROOT_DIR = '/Users/caoke/datasets/digit-recognizer/'\n",
    "TRAIN_FILE_NAME = 'train.csv'\n",
    "TEST_FILE_NAME = 'test.csv'\n",
    "np.random.seed(42)\n",
    "OUTPUT = []\n",
    "\n",
    "def out_put():\n",
    "    with open('output.csv', 'w') as f:\n",
    "        f.write('ImageId,Label\\n')\n",
    "        for idx, val in enumerate(OUTPUT):\n",
    "            f.write(\"{},{}\\n\".format(idx+1, val))\n",
    "        print('over')        "
   ]
  },
  {
   "cell_type": "code",
   "execution_count": 3,
   "metadata": {
    "collapsed": true
   },
   "outputs": [],
   "source": [
    "data = pd.read_csv(os.path.join(ROOT_DIR, TRAIN_FILE_NAME))\n",
    "test = pd.read_csv(os.path.join(ROOT_DIR, TEST_FILE_NAME)).values"
   ]
  },
  {
   "cell_type": "code",
   "execution_count": 4,
   "metadata": {
    "collapsed": true
   },
   "outputs": [],
   "source": [
    "DATA_SIZE = data.shape[0]\n",
    "MASK = np.random.permutation(DATA_SIZE)\n",
    "VAL_SIZE = int(math.ceil(DATA_SIZE*0.2))"
   ]
  },
  {
   "cell_type": "markdown",
   "metadata": {},
   "source": [
    "## some info"
   ]
  },
  {
   "cell_type": "markdown",
   "metadata": {},
   "source": [
    "### data.dtypes all int64\n",
    "### data.columns\n",
    "\n",
    "Index(['label', 'pixel0', 'pixel1', 'pixel2', 'pixel3', 'pixel4', 'pixel5',\n",
    "       'pixel6', 'pixel7', 'pixel8',\n",
    "       ...\n",
    "       'pixel774', 'pixel775', 'pixel776', 'pixel777', 'pixel778', 'pixel779',\n",
    "       'pixel780', 'pixel781', 'pixel782', 'pixel783'],\n",
    "      dtype='object', length=785)\n",
    "### data.values:\n",
    "\n",
    "### type numpy.ndarray, dtype('int64'), shape=(42000, 785)"
   ]
  },
  {
   "cell_type": "code",
   "execution_count": 5,
   "metadata": {},
   "outputs": [
    {
     "name": "stdout",
     "output_type": "stream",
     "text": [
      "(33600, 785) (8400, 785)\n"
     ]
    }
   ],
   "source": [
    "TRAIN_DATA = data.loc[MASK[VAL_SIZE:]]\n",
    "VAL_DATA = data.loc[MASK[:VAL_SIZE]]\n",
    "print(TRAIN_DATA.shape, VAL_DATA.shape)"
   ]
  },
  {
   "cell_type": "code",
   "execution_count": 6,
   "metadata": {
    "collapsed": true
   },
   "outputs": [],
   "source": [
    "def data_label_split(data, column_name):\n",
    "    labels = data.pop(column_name)\n",
    "    return data, labels"
   ]
  },
  {
   "cell_type": "code",
   "execution_count": 7,
   "metadata": {},
   "outputs": [
    {
     "name": "stdout",
     "output_type": "stream",
     "text": [
      "X_train.shape: (33600, 784) y_train.shape: (33600,)\n",
      "X_val.shape: (8400, 784) y_val.shape: (8400,)\n"
     ]
    }
   ],
   "source": [
    "X_train, y_train = data_label_split(TRAIN_DATA, 'label')\n",
    "X_val, y_val = data_label_split(VAL_DATA, 'label')\n",
    "print('X_train.shape:',X_train.shape, 'y_train.shape:', y_train.shape)\n",
    "print('X_val.shape:', X_val.shape, 'y_val.shape:', y_val.shape)"
   ]
  },
  {
   "cell_type": "code",
   "execution_count": 8,
   "metadata": {
    "collapsed": true
   },
   "outputs": [],
   "source": [
    "X_train, y_train = X_train.values, y_train.values"
   ]
  },
  {
   "cell_type": "code",
   "execution_count": 9,
   "metadata": {
    "collapsed": true
   },
   "outputs": [],
   "source": [
    "# scale the data\n",
    "# add the epsilon to avoid devide zero\n",
    "scale_x_train = (X_train - np.mean(X_train, axis=0)) / np.sqrt(np.std(X_train, axis=0)+ 1e-5)\n",
    "scale_x_val = (X_val - np.mean(X_train, axis=0)) / np.sqrt(np.std(X_train, axis=0) + 1e-5)"
   ]
  },
  {
   "cell_type": "markdown",
   "metadata": {},
   "source": [
    "## First implement a 2 layer NN\n",
    "\n",
    "##### in training, we had got over 90% accuracy,\n",
    "##### but in kaggle, this test accuracy was 0.83928 \n",
    "##### obiviously the model was overfitting\n",
    "##### so after trying this, we'll try some complex model with some regularization methods"
   ]
  },
  {
   "cell_type": "code",
   "execution_count": 10,
   "metadata": {},
   "outputs": [
    {
     "name": "stdout",
     "output_type": "stream",
     "text": [
      "training\n",
      "Iteration 0: with minibatch training loss = 9.26 and accuracy of 0.16\n",
      "Iteration 100: with minibatch training loss = 3.16 and accuracy of 0.88\n",
      "Iteration 200: with minibatch training loss = 0.834 and accuracy of 0.92\n",
      "Iteration 300: with minibatch training loss = 0.601 and accuracy of 0.94\n",
      "Iteration 400: with minibatch training loss = 1.81 and accuracy of 0.92\n",
      "Iteration 500: with minibatch training loss = 0.283 and accuracy of 0.97\n",
      "Epoch 1, Overall loss = 1.03 and accuracy of 0.913\n"
     ]
    },
    {
     "data": {
      "image/png": "[encoded data removed]",
      "text/plain": [
       "<matplotlib.figure.Figure at 0x11fe0feb8>"
      ]
     },
     "metadata": {},
     "output_type": "display_data"
    },
    {
     "name": "stdout",
     "output_type": "stream",
     "text": [
      "validation\n",
      "Overall loss = 0.0167 and accuracy of 0.94\n",
      "testing\n"
     ]
    }
   ],
   "source": [
    "tf.reset_default_graph()\n",
    "\n",
    "X = tf.placeholder(tf.float32, shape=[None, 28*28], name='X')\n",
    "y = tf.placeholder(tf.int64, shape=None, name='y')\n",
    "is_training = tf.placeholder(tf.bool)\n",
    "\n",
    "#### start build layer now\n",
    "fc_1 = tf.layers.dense(X, 1024, \n",
    "                      activation=tf.nn.relu,\n",
    "                      kernel_initializer=tf.contrib.layers.xavier_initializer(),\n",
    "                      name='FC1')\n",
    "y_out = tf.layers.dense(fc_1, 10, \n",
    "                       activation=None,\n",
    "                       name='Y_OUT')\n",
    "\n",
    "total_losses = tf.losses.softmax_cross_entropy(tf.one_hot(y, 10), logits=y_out)\n",
    "#total_losses = tf.nn.softmax_cross_entropy_with_logits(logits=y_out, labels=y)\n",
    "\n",
    "mean_loss = tf.reduce_mean(total_losses)\n",
    "\n",
    "optimizer = tf.train.AdamOptimizer()\n",
    "train_step = optimizer.minimize(mean_loss)\n",
    "\n",
    "correct_predictions = tf.equal(tf.argmax(y_out, axis=1), y)\n",
    "accuracy = tf.reduce_mean(tf.cast(correct_predictions, tf.float32))\n",
    "\n",
    "variables = [mean_loss, accuracy, correct_predictions, train_step]\n",
    "\n",
    "batch_size = 64\n",
    "epochs = 1\n",
    "iter_cnt = 0\n",
    "N = scale_x_train.shape[0]\n",
    "with tf.Session() as sess:\n",
    "    print('training')\n",
    "    init = tf.global_variables_initializer()\n",
    "    sess.run(init)\n",
    "\n",
    "    for e in range(epochs):\n",
    "        indices = np.arange(N)\n",
    "        np.random.shuffle(indices)\n",
    "        correct = 0\n",
    "        losses = []\n",
    "        for i in range(int(math.ceil(N / batch_size))):\n",
    "            mask = indices[i*batch_size : (i+1)*batch_size]\n",
    "            feed_dict = {\n",
    "                X: scale_x_train[mask],\n",
    "                y: y_train[mask],\n",
    "            }\n",
    "            actual_batch_size = len(mask)\n",
    "            loss, acc, corr, _ = sess.run(variables, feed_dict=feed_dict)\n",
    "            losses.append(loss*actual_batch_size)\n",
    "            correct += np.sum(corr)\n",
    "            if (iter_cnt % 100) == 0:\n",
    "                print(\"Iteration {0}: with minibatch training loss = {1:.3g} and accuracy of {2:.2g}\"\\\n",
    "                      .format(iter_cnt,loss,np.sum(corr)/actual_batch_size))\n",
    "            iter_cnt += 1\n",
    "        total_correct = correct/N\n",
    "        total_loss = np.sum(losses)/N\n",
    "        print(\"Epoch {2}, Overall loss = {0:.3g} and accuracy of {1:.3g}\"\\\n",
    "              .format(total_loss,total_correct,e+1))\n",
    "        if True:\n",
    "            plt.plot(losses)\n",
    "            plt.grid(True)\n",
    "            plt.title('Epoch {} Loss'.format(e+1))\n",
    "            plt.xlabel('minibatch number')\n",
    "            plt.ylabel('minibatch loss')\n",
    "            plt.show()\n",
    "    print('validation')\n",
    "    val_variables = [total_losses, correct_predictions]\n",
    "    total_loss = 0\n",
    "    total_correct = 0\n",
    "    for i in range(int(math.ceil(scale_x_val.shape[0]/batch_size))):\n",
    "        feed_dict = {\n",
    "            X:scale_x_val[i*batch_size:(i+1)*batch_size],\n",
    "            y:y_val[i*batch_size:(i+1)*batch_size]\n",
    "        }\n",
    "        actual_batch_size = y_val[i*batch_size:(i+1)*batch_size].shape[0]\n",
    "        loss, acc = sess.run(val_variables, feed_dict=feed_dict)\n",
    "        total_loss += loss\n",
    "        total_correct += np.sum(acc)\n",
    "    total_loss /= scale_x_val.shape[0]\n",
    "    total_correct /= scale_x_val.shape[0]\n",
    "    print(\"Overall loss = {0:.3g} and accuracy of {1:.3g}\"\\\n",
    "              .format(total_loss,total_correct))\n",
    "    print('testing')\n",
    "    val_variables = [y_out]\n",
    "    for i in range(int(math.ceil(test.shape[0]/batch_size))):\n",
    "        feed_dict = {\n",
    "            X:test[i*batch_size:(i+1)*batch_size],\n",
    "        }\n",
    "        ## return a list\n",
    "        out = sess.run(val_variables, feed_dict=feed_dict)\n",
    "        OUTPUT.extend(list(np.argmax(out[0], axis=1)))"
   ]
  },
  {
   "cell_type": "markdown",
   "metadata": {},
   "source": [
    "although we got the loss and accuracy in train data, <br>\n",
    "but without a class or model , we had to train again on test data <br>\n",
    "which cost a mount of computation"
   ]
  },
  {
   "cell_type": "markdown",
   "metadata": {},
   "source": [
    "## Now try to build the graph in class in order to achieve reduced coupling"
   ]
  },
  {
   "cell_type": "code",
   "execution_count": 107,
   "metadata": {},
   "outputs": [],
   "source": [
    "class Model:\n",
    "    def __init__(self, lr=0.001):\n",
    "        self.X = tf.placeholder(tf.float32, shape=(None, 28, 28, 1))\n",
    "        self.y = tf.placeholder(tf.int64, shape=(None))\n",
    "        self.is_training = tf.placeholder(tf.bool)\n",
    "        self.lr = lr\n",
    "        self.build_model()\n",
    "    def build_model(self):\n",
    "        conv_1 = tf.layers.conv2d(self.X, 64, 3, strides=(1, 1), padding='same', \n",
    "                                  activation=tf.nn.relu, \n",
    "                                  kernel_initializer=tf.contrib.layers.xavier_initializer())\n",
    "        bn_1 = tf.layers.batch_normalization(conv_1)\n",
    "        conv_2 = tf.layers.conv2d(bn_1, 128, 3, strides=(1, 1), padding='same', \n",
    "                                  activation=tf.nn.relu, \n",
    "                                  kernel_initializer=tf.contrib.layers.xavier_initializer())\n",
    "        bn_2 = tf.layers.batch_normalization(conv_2)\n",
    "        mp_1 = tf.layers.max_pooling2d(bn_2, 2, 2)\n",
    "        flatten = tf.reshape(mp_1, (-1, 14*14*128))\n",
    "        fc_1 = tf.layers.dense(flatten, 1024, \n",
    "                               activation=tf.nn.relu, \n",
    "                               kernel_initializer=tf.contrib.layers.xavier_initializer())\n",
    "        self.y_out = tf.layers.dense(fc_1, 10, \n",
    "                               activation=None,\n",
    "                               kernel_initializer=tf.contrib.layers.xavier_initializer())\n",
    "        print(y_out.shape, self.y.shape)\n",
    "        loss = tf.nn.softmax_cross_entropy_with_logits(labels=tf.one_hot(self.y, 10), logits=self.y_out)\n",
    "        self.mean_loss = tf.reduce_mean(loss)\n",
    "        optimier = tf.train.AdamOptimizer(self.lr)\n",
    "        self.train_step = optimizer.minimize(self.mean_loss)\n",
    "        correction = tf.equal(tf.argmax(self.y_out, axis=1), self.y)\n",
    "        self.accuracy = tf.reduce_mean(tf.cast(correction, tf.float32))"
   ]
  },
  {
   "cell_type": "code",
   "execution_count": 111,
   "metadata": {
    "collapsed": true
   },
   "outputs": [],
   "source": [
    "class Solver:\n",
    "    def __init__(self, sess, model, data, \n",
    "                 epochs=1, batch_size=64, \n",
    "                 is_training=True, \n",
    "                 print_every=100, plot_loss=False):\n",
    "        self.sess = sess\n",
    "        self.model = model\n",
    "        self.Xt = data['X_train']\n",
    "        self.yt = data['y_train']\n",
    "        self.epochs = epochs\n",
    "        self.batch_size = batch_size\n",
    "        self.is_training = is_training\n",
    "        self.print_every = print_every\n",
    "        self.plot_loss = plot_loss\n",
    "        self.sess.run(tf.global_variables_initializer())\n",
    "    \n",
    "    def predict(self, X_test):\n",
    "        N = X_test.shape[0]\n",
    "        variables = [self.model.y_out]\n",
    "        out = []\n",
    "        for i in range(int(math.ceil(N/batch_size))):\n",
    "            feed_dict = {\n",
    "                self.model.X: X_test[i*batch_size:(i+1)*batch_size].reshape((-1, 28, 28, 1))\n",
    "            }\n",
    "            y_out = sess.run(variables, feed_dict=feed_dict)\n",
    "            out.extend(np.argmax(y_out[0], axis=1))\n",
    "        return out\n",
    "            \n",
    "            \n",
    "    def train(self):\n",
    "        iter_cnt = 0\n",
    "        seed = 42\n",
    "        N = self.Xt.shape[0]\n",
    "        np.random.seed(seed+iter_cnt)\n",
    "        variables = [self.model.mean_loss, self.model.accuracy, self.model.train_step]\n",
    "        for e in range(self.epochs):\n",
    "            train_indices = np.arange(N)\n",
    "            np.random.shuffle(train_indices)\n",
    "            losses = []\n",
    "            corrects = 0\n",
    "            for i in range(int(math.ceil(N/batch_size))):\n",
    "                mask = train_indices[i*batch_size : (i+1)*batch_size]\n",
    "                actual_size = len(mask)\n",
    "                feed_dict = {\n",
    "                    self.model.X: self.Xt[mask,:].reshape((-1, 28, 28, 1)),\n",
    "                    self.model.y: self.yt[mask],\n",
    "                    self.model.is_training:self.is_training\n",
    "                }\n",
    "                loss, acc, _ = self.sess.run(variables, feed_dict=feed_dict)\n",
    "                losses.append(loss*actual_size)\n",
    "                corrects += acc * actual_size\n",
    "                if (iter_cnt % print_every) == 0:\n",
    "                    print(\"Iteration {0}: with minibatch training loss = {1:.3g} and accuracy of {2:.2g}\"\\\n",
    "                      .format(iter_cnt,loss,acc))\n",
    "                iter_cnt += 1\n",
    "        losses = np.sum(losses) / N\n",
    "        corrects /= N \n",
    "        print(\"Epoch {2}, Overall loss = {0:.3g} and accuracy of {1:.3g}\"\\\n",
    "              .format(losses,correct,e+1))\n",
    "        if plot_loss:\n",
    "            plt.plot(losses)\n",
    "            plt.grid(True)\n",
    "            plt.title('Epoch {} Loss'.format(e+1))\n",
    "            plt.xlabel('minibatch number')\n",
    "            plt.ylabel('minibatch loss')\n",
    "            plt.show()"
   ]
  },
  {
   "cell_type": "code",
   "execution_count": 112,
   "metadata": {
    "collapsed": true
   },
   "outputs": [],
   "source": [
    "data_dict = {\n",
    "    'X_train': scale_x_train,\n",
    "    'y_train': y_train,\n",
    "    'X_val': scale_x_val,\n",
    "    'y_val': y_val\n",
    "}"
   ]
  },
  {
   "cell_type": "code",
   "execution_count": 113,
   "metadata": {},
   "outputs": [
    {
     "name": "stdout",
     "output_type": "stream",
     "text": [
      "(?, 10) <unknown>\n",
      "[3, 4, 4, 3, 3, 3, 1, 3, 1, 3, 1, 4, 1, 5, 4, 3, 4, 4, 4, 5, 1, 3, 1, 4, 9, 4, 1, 3, 4, 5, 9, 8, 3, 5, 4, 5, 4, 3, 9, 5, 3, 3, 8, 9, 9, 9, 9, 9, 3, 3, 8, 3, 4, 4, 4, 4, 5, 5, 3, 3, 9, 4, 5, 3]\n"
     ]
    },
    {
     "ename": "KeyboardInterrupt",
     "evalue": "",
     "output_type": "error",
     "traceback": [
      "\u001b[0;31m---------------------------------------------------------------------------\u001b[0m",
      "\u001b[0;31mKeyboardInterrupt\u001b[0m                         Traceback (most recent call last)",
      "\u001b[0;32m<ipython-input-113-69250d09a43e>\u001b[0m in \u001b[0;36m<module>\u001b[0;34m()\u001b[0m\n\u001b[1;32m      3\u001b[0m     \u001b[0mmodel\u001b[0m \u001b[0;34m=\u001b[0m \u001b[0mModel\u001b[0m\u001b[0;34m(\u001b[0m\u001b[0;34m)\u001b[0m\u001b[0;34m\u001b[0m\u001b[0m\n\u001b[1;32m      4\u001b[0m     \u001b[0msolver\u001b[0m \u001b[0;34m=\u001b[0m \u001b[0mSolver\u001b[0m\u001b[0;34m(\u001b[0m\u001b[0msess\u001b[0m\u001b[0;34m,\u001b[0m \u001b[0mmodel\u001b[0m\u001b[0;34m,\u001b[0m \u001b[0mdata_dict\u001b[0m\u001b[0;34m)\u001b[0m\u001b[0;34m\u001b[0m\u001b[0m\n\u001b[0;32m----> 5\u001b[0;31m     \u001b[0mout\u001b[0m \u001b[0;34m=\u001b[0m \u001b[0msolver\u001b[0m\u001b[0;34m.\u001b[0m\u001b[0mpredict\u001b[0m\u001b[0;34m(\u001b[0m\u001b[0mscale_x_train\u001b[0m\u001b[0;34m)\u001b[0m\u001b[0;34m\u001b[0m\u001b[0m\n\u001b[0m\u001b[1;32m      6\u001b[0m     \u001b[0mprint\u001b[0m\u001b[0;34m(\u001b[0m\u001b[0mout\u001b[0m\u001b[0;34m)\u001b[0m\u001b[0;34m\u001b[0m\u001b[0m\n",
      "\u001b[0;32m<ipython-input-111-0e9a74b7ff4d>\u001b[0m in \u001b[0;36mpredict\u001b[0;34m(self, X_test)\u001b[0m\n\u001b[1;32m     23\u001b[0m                 \u001b[0mself\u001b[0m\u001b[0;34m.\u001b[0m\u001b[0mmodel\u001b[0m\u001b[0;34m.\u001b[0m\u001b[0mX\u001b[0m\u001b[0;34m:\u001b[0m \u001b[0mX_test\u001b[0m\u001b[0;34m[\u001b[0m\u001b[0mi\u001b[0m\u001b[0;34m*\u001b[0m\u001b[0mbatch_size\u001b[0m\u001b[0;34m:\u001b[0m\u001b[0;34m(\u001b[0m\u001b[0mi\u001b[0m\u001b[0;34m+\u001b[0m\u001b[0;36m1\u001b[0m\u001b[0;34m)\u001b[0m\u001b[0;34m*\u001b[0m\u001b[0mbatch_size\u001b[0m\u001b[0;34m]\u001b[0m\u001b[0;34m.\u001b[0m\u001b[0mreshape\u001b[0m\u001b[0;34m(\u001b[0m\u001b[0;34m(\u001b[0m\u001b[0;34m-\u001b[0m\u001b[0;36m1\u001b[0m\u001b[0;34m,\u001b[0m \u001b[0;36m28\u001b[0m\u001b[0;34m,\u001b[0m \u001b[0;36m28\u001b[0m\u001b[0;34m,\u001b[0m \u001b[0;36m1\u001b[0m\u001b[0;34m)\u001b[0m\u001b[0;34m)\u001b[0m\u001b[0;34m\u001b[0m\u001b[0m\n\u001b[1;32m     24\u001b[0m             }\n\u001b[0;32m---> 25\u001b[0;31m             \u001b[0my_out\u001b[0m \u001b[0;34m=\u001b[0m \u001b[0msess\u001b[0m\u001b[0;34m.\u001b[0m\u001b[0mrun\u001b[0m\u001b[0;34m(\u001b[0m\u001b[0mvariables\u001b[0m\u001b[0;34m,\u001b[0m \u001b[0mfeed_dict\u001b[0m\u001b[0;34m=\u001b[0m\u001b[0mfeed_dict\u001b[0m\u001b[0;34m)\u001b[0m\u001b[0;34m\u001b[0m\u001b[0m\n\u001b[0m\u001b[1;32m     26\u001b[0m             \u001b[0mout\u001b[0m\u001b[0;34m.\u001b[0m\u001b[0mextend\u001b[0m\u001b[0;34m(\u001b[0m\u001b[0mnp\u001b[0m\u001b[0;34m.\u001b[0m\u001b[0margmax\u001b[0m\u001b[0;34m(\u001b[0m\u001b[0my_out\u001b[0m\u001b[0;34m[\u001b[0m\u001b[0;36m0\u001b[0m\u001b[0;34m]\u001b[0m\u001b[0;34m,\u001b[0m \u001b[0maxis\u001b[0m\u001b[0;34m=\u001b[0m\u001b[0;36m1\u001b[0m\u001b[0;34m)\u001b[0m\u001b[0;34m)\u001b[0m\u001b[0;34m\u001b[0m\u001b[0m\n\u001b[1;32m     27\u001b[0m             \u001b[0;32mif\u001b[0m \u001b[0mi\u001b[0m \u001b[0;34m==\u001b[0m \u001b[0;36m0\u001b[0m\u001b[0;34m:\u001b[0m\u001b[0;34m\u001b[0m\u001b[0m\n",
      "\u001b[0;32m~/code/python/virtual_env/knn_env/env/lib/python3.5/site-packages/tensorflow/python/client/session.py\u001b[0m in \u001b[0;36mrun\u001b[0;34m(self, fetches, feed_dict, options, run_metadata)\u001b[0m\n\u001b[1;32m    887\u001b[0m     \u001b[0;32mtry\u001b[0m\u001b[0;34m:\u001b[0m\u001b[0;34m\u001b[0m\u001b[0m\n\u001b[1;32m    888\u001b[0m       result = self._run(None, fetches, feed_dict, options_ptr,\n\u001b[0;32m--> 889\u001b[0;31m                          run_metadata_ptr)\n\u001b[0m\u001b[1;32m    890\u001b[0m       \u001b[0;32mif\u001b[0m \u001b[0mrun_metadata\u001b[0m\u001b[0;34m:\u001b[0m\u001b[0;34m\u001b[0m\u001b[0m\n\u001b[1;32m    891\u001b[0m         \u001b[0mproto_data\u001b[0m \u001b[0;34m=\u001b[0m \u001b[0mtf_session\u001b[0m\u001b[0;34m.\u001b[0m\u001b[0mTF_GetBuffer\u001b[0m\u001b[0;34m(\u001b[0m\u001b[0mrun_metadata_ptr\u001b[0m\u001b[0;34m)\u001b[0m\u001b[0;34m\u001b[0m\u001b[0m\n",
      "\u001b[0;32m~/code/python/virtual_env/knn_env/env/lib/python3.5/site-packages/tensorflow/python/client/session.py\u001b[0m in \u001b[0;36m_run\u001b[0;34m(self, handle, fetches, feed_dict, options, run_metadata)\u001b[0m\n\u001b[1;32m   1118\u001b[0m     \u001b[0;32mif\u001b[0m \u001b[0mfinal_fetches\u001b[0m \u001b[0;32mor\u001b[0m \u001b[0mfinal_targets\u001b[0m \u001b[0;32mor\u001b[0m \u001b[0;34m(\u001b[0m\u001b[0mhandle\u001b[0m \u001b[0;32mand\u001b[0m \u001b[0mfeed_dict_tensor\u001b[0m\u001b[0;34m)\u001b[0m\u001b[0;34m:\u001b[0m\u001b[0;34m\u001b[0m\u001b[0m\n\u001b[1;32m   1119\u001b[0m       results = self._do_run(handle, final_targets, final_fetches,\n\u001b[0;32m-> 1120\u001b[0;31m                              feed_dict_tensor, options, run_metadata)\n\u001b[0m\u001b[1;32m   1121\u001b[0m     \u001b[0;32melse\u001b[0m\u001b[0;34m:\u001b[0m\u001b[0;34m\u001b[0m\u001b[0m\n\u001b[1;32m   1122\u001b[0m       \u001b[0mresults\u001b[0m \u001b[0;34m=\u001b[0m \u001b[0;34m[\u001b[0m\u001b[0;34m]\u001b[0m\u001b[0;34m\u001b[0m\u001b[0m\n",
      "\u001b[0;32m~/code/python/virtual_env/knn_env/env/lib/python3.5/site-packages/tensorflow/python/client/session.py\u001b[0m in \u001b[0;36m_do_run\u001b[0;34m(self, handle, target_list, fetch_list, feed_dict, options, run_metadata)\u001b[0m\n\u001b[1;32m   1315\u001b[0m     \u001b[0;32mif\u001b[0m \u001b[0mhandle\u001b[0m \u001b[0;32mis\u001b[0m \u001b[0;32mNone\u001b[0m\u001b[0;34m:\u001b[0m\u001b[0;34m\u001b[0m\u001b[0m\n\u001b[1;32m   1316\u001b[0m       return self._do_call(_run_fn, self._session, feeds, fetches, targets,\n\u001b[0;32m-> 1317\u001b[0;31m                            options, run_metadata)\n\u001b[0m\u001b[1;32m   1318\u001b[0m     \u001b[0;32melse\u001b[0m\u001b[0;34m:\u001b[0m\u001b[0;34m\u001b[0m\u001b[0m\n\u001b[1;32m   1319\u001b[0m       \u001b[0;32mreturn\u001b[0m \u001b[0mself\u001b[0m\u001b[0;34m.\u001b[0m\u001b[0m_do_call\u001b[0m\u001b[0;34m(\u001b[0m\u001b[0m_prun_fn\u001b[0m\u001b[0;34m,\u001b[0m \u001b[0mself\u001b[0m\u001b[0;34m.\u001b[0m\u001b[0m_session\u001b[0m\u001b[0;34m,\u001b[0m \u001b[0mhandle\u001b[0m\u001b[0;34m,\u001b[0m \u001b[0mfeeds\u001b[0m\u001b[0;34m,\u001b[0m \u001b[0mfetches\u001b[0m\u001b[0;34m)\u001b[0m\u001b[0;34m\u001b[0m\u001b[0m\n",
      "\u001b[0;32m~/code/python/virtual_env/knn_env/env/lib/python3.5/site-packages/tensorflow/python/client/session.py\u001b[0m in \u001b[0;36m_do_call\u001b[0;34m(self, fn, *args)\u001b[0m\n\u001b[1;32m   1321\u001b[0m   \u001b[0;32mdef\u001b[0m \u001b[0m_do_call\u001b[0m\u001b[0;34m(\u001b[0m\u001b[0mself\u001b[0m\u001b[0;34m,\u001b[0m \u001b[0mfn\u001b[0m\u001b[0;34m,\u001b[0m \u001b[0;34m*\u001b[0m\u001b[0margs\u001b[0m\u001b[0;34m)\u001b[0m\u001b[0;34m:\u001b[0m\u001b[0;34m\u001b[0m\u001b[0m\n\u001b[1;32m   1322\u001b[0m     \u001b[0;32mtry\u001b[0m\u001b[0;34m:\u001b[0m\u001b[0;34m\u001b[0m\u001b[0m\n\u001b[0;32m-> 1323\u001b[0;31m       \u001b[0;32mreturn\u001b[0m \u001b[0mfn\u001b[0m\u001b[0;34m(\u001b[0m\u001b[0;34m*\u001b[0m\u001b[0margs\u001b[0m\u001b[0;34m)\u001b[0m\u001b[0;34m\u001b[0m\u001b[0m\n\u001b[0m\u001b[1;32m   1324\u001b[0m     \u001b[0;32mexcept\u001b[0m \u001b[0merrors\u001b[0m\u001b[0;34m.\u001b[0m\u001b[0mOpError\u001b[0m \u001b[0;32mas\u001b[0m \u001b[0me\u001b[0m\u001b[0;34m:\u001b[0m\u001b[0;34m\u001b[0m\u001b[0m\n\u001b[1;32m   1325\u001b[0m       \u001b[0mmessage\u001b[0m \u001b[0;34m=\u001b[0m \u001b[0mcompat\u001b[0m\u001b[0;34m.\u001b[0m\u001b[0mas_text\u001b[0m\u001b[0;34m(\u001b[0m\u001b[0me\u001b[0m\u001b[0;34m.\u001b[0m\u001b[0mmessage\u001b[0m\u001b[0;34m)\u001b[0m\u001b[0;34m\u001b[0m\u001b[0m\n",
      "\u001b[0;32m~/code/python/virtual_env/knn_env/env/lib/python3.5/site-packages/tensorflow/python/client/session.py\u001b[0m in \u001b[0;36m_run_fn\u001b[0;34m(session, feed_dict, fetch_list, target_list, options, run_metadata)\u001b[0m\n\u001b[1;32m   1300\u001b[0m           return tf_session.TF_Run(session, options,\n\u001b[1;32m   1301\u001b[0m                                    \u001b[0mfeed_dict\u001b[0m\u001b[0;34m,\u001b[0m \u001b[0mfetch_list\u001b[0m\u001b[0;34m,\u001b[0m \u001b[0mtarget_list\u001b[0m\u001b[0;34m,\u001b[0m\u001b[0;34m\u001b[0m\u001b[0m\n\u001b[0;32m-> 1302\u001b[0;31m                                    status, run_metadata)\n\u001b[0m\u001b[1;32m   1303\u001b[0m \u001b[0;34m\u001b[0m\u001b[0m\n\u001b[1;32m   1304\u001b[0m     \u001b[0;32mdef\u001b[0m \u001b[0m_prun_fn\u001b[0m\u001b[0;34m(\u001b[0m\u001b[0msession\u001b[0m\u001b[0;34m,\u001b[0m \u001b[0mhandle\u001b[0m\u001b[0;34m,\u001b[0m \u001b[0mfeed_dict\u001b[0m\u001b[0;34m,\u001b[0m \u001b[0mfetch_list\u001b[0m\u001b[0;34m)\u001b[0m\u001b[0;34m:\u001b[0m\u001b[0;34m\u001b[0m\u001b[0m\n",
      "\u001b[0;31mKeyboardInterrupt\u001b[0m: "
     ]
    }
   ],
   "source": [
    "tf.reset_default_graph()\n",
    "sess = tf.Session()\n",
    "model = Model()\n",
    "solver = Solver(sess, model, data_dict)\n",
    "solver.train()"
   ]
  },
  {
   "cell_type": "code",
   "execution_count": null,
   "metadata": {
    "collapsed": true
   },
   "outputs": [],
   "source": [
    "y_val_pre = solver.predict(scale_x_val)\n",
    "acc = np.mean(x_val_pre == y_val)"
   ]
  },
  {
   "cell_type": "code",
   "execution_count": null,
   "metadata": {
    "collapsed": true
   },
   "outputs": [],
   "source": [
    "OUTPUT = solver.predict(test)\n",
    "out_put()"
   ]
  },
  {
   "cell_type": "code",
   "execution_count": 115,
   "metadata": {
    "collapsed": true
   },
   "outputs": [],
   "source": [
    "sess.close()"
   ]
  },
  {
   "cell_type": "code",
   "execution_count": null,
   "metadata": {
    "collapsed": true
   },
   "outputs": [],
   "source": []
  }
 ],
 "metadata": {
  "kernelspec": {
   "display_name": "Python 3",
   "language": "python",
   "name": "python3"
  },
  "language_info": {
   "codemirror_mode": {
    "name": "ipython",
    "version": 3
   },
   "file_extension": ".py",
   "mimetype": "text/x-python",
   "name": "python",
   "nbconvert_exporter": "python",
   "pygments_lexer": "ipython3",
   "version": "3.5.3"
  }
 },
 "nbformat": 4,
 "nbformat_minor": 2
}
